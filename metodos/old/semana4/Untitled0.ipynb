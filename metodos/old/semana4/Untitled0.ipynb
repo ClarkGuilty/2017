{
 "metadata": {
  "name": "",
  "signature": "sha256:52cbda0f80473b737f013dfd5f2dc902e9c02ab7e47c58652d4859e57e527a5e"
 },
 "nbformat": 3,
 "nbformat_minor": 0,
 "worksheets": []
}